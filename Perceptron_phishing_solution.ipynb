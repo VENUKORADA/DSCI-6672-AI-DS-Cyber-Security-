{
  "nbformat": 4,
  "nbformat_minor": 0,
  "metadata": {
    "colab": {
      "name": "Perceptron_phishing_solution.ipynb",
      "provenance": []
    },
    "kernelspec": {
      "name": "python3",
      "display_name": "Python 3"
    }
  },
  "cells": [
    {
      "cell_type": "code",
      "metadata": {
        "id": "LhFfnDuQJSdW",
        "colab_type": "code",
        "colab": {}
      },
      "source": [
        "import pandas as pd\n",
        "import numpy as np\n",
        "from sklearn import *\n",
        "from sklearn.linear_model import LogisticRegression\n",
        "from sklearn.metrics import accuracy_score\n",
        "import warnings \n",
        "warnings.simplefilter('ignore')"
      ],
      "execution_count": 0,
      "outputs": []
    },
    {
      "cell_type": "code",
      "metadata": {
        "id": "uA6RwLtWL53N",
        "colab_type": "code",
        "colab": {}
      },
      "source": [
        "phishing_dataset = np.genfromtxt('phishing_dataset.csv', delimiter=',', dtype=np.int32)\n",
        "X = phishing_dataset[:,:-1]\n",
        "y = phishing_dataset[:, -1]"
      ],
      "execution_count": 0,
      "outputs": []
    },
    {
      "cell_type": "code",
      "metadata": {
        "id": "mbqzMN7oL69W",
        "colab_type": "code",
        "colab": {}
      },
      "source": [
        "from sklearn.model_selection import train_test_split\n",
        "\n",
        "X_train, X_test, y_train, y_test = train_test_split(\n",
        "         X, y, test_size=0.30, random_state=2)"
      ],
      "execution_count": 0,
      "outputs": []
    },
    {
      "cell_type": "code",
      "metadata": {
        "id": "oeAUI3xHMlP5",
        "colab_type": "code",
        "colab": {
          "base_uri": "https://localhost:8080/",
          "height": 85
        },
        "outputId": "70d79cb0-ed9e-4307-9502-abd392a24247"
      },
      "source": [
        "from sklearn.linear_model import Perceptron\n",
        "\n",
        "p = Perceptron(max_iter=4000,eta0=0.1, random_state=1)\n",
        "p.fit(X_train, y_train)"
      ],
      "execution_count": 4,
      "outputs": [
        {
          "output_type": "execute_result",
          "data": {
            "text/plain": [
              "Perceptron(alpha=0.0001, class_weight=None, early_stopping=False, eta0=0.1,\n",
              "           fit_intercept=True, max_iter=4000, n_iter_no_change=5, n_jobs=None,\n",
              "           penalty=None, random_state=1, shuffle=True, tol=0.001,\n",
              "           validation_fraction=0.1, verbose=0, warm_start=False)"
            ]
          },
          "metadata": {
            "tags": []
          },
          "execution_count": 4
        }
      ]
    },
    {
      "cell_type": "code",
      "metadata": {
        "id": "9dWyh3tzMnIn",
        "colab_type": "code",
        "colab": {}
      },
      "source": [
        "y_pred = p.predict(X_test)"
      ],
      "execution_count": 0,
      "outputs": []
    },
    {
      "cell_type": "markdown",
      "metadata": {
        "id": "3YVC2K6JWy41",
        "colab_type": "text"
      },
      "source": [
        "The best Accuracy obtained is 91.17% by tweaking the parameters. Test size is maintained as per the bench mark to 30%."
      ]
    },
    {
      "cell_type": "code",
      "metadata": {
        "id": "pVmoIrH9M_rt",
        "colab_type": "code",
        "colab": {
          "base_uri": "https://localhost:8080/",
          "height": 51
        },
        "outputId": "23eb6784-4b94-42b0-e005-3abdbe3e1b0a"
      },
      "source": [
        "from sklearn.metrics import accuracy_score\n",
        "\n",
        "print('Misclassified samples: %d' % (y_test != y_pred).sum())\n",
        "print('Accuracy: %.4f' % accuracy_score(y_test, y_pred))"
      ],
      "execution_count": 6,
      "outputs": [
        {
          "output_type": "stream",
          "text": [
            "Misclassified samples: 293\n",
            "Accuracy: 0.9117\n"
          ],
          "name": "stdout"
        }
      ]
    }
  ]
}